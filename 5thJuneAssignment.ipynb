{
 "cells": [
  {
   "cell_type": "code",
   "execution_count": 1,
   "id": "17a54bb1",
   "metadata": {
    "scrolled": true
   },
   "outputs": [
    {
     "name": "stdout",
     "output_type": "stream",
     "text": [
      "hello world"
     ]
    }
   ],
   "source": [
    "#Try to write a function which  is equivalent  to print function in python\n",
    "\n",
    "from sys import stdout\n",
    "\n",
    "\n",
    "def echo(string):\n",
    "    stdout.write(string)\n",
    "    \n",
    "echo(\"hello world\")\n"
   ]
  },
  {
   "cell_type": "code",
   "execution_count": 20,
   "id": "ea368d9a",
   "metadata": {},
   "outputs": [
    {
     "name": "stdout",
     "output_type": "stream",
     "text": [
      "[(4, 'four'), (1, 'one'), (3, 'three'), (2, 'two')]\n"
     ]
    },
    {
     "data": {
      "text/plain": [
       "5"
      ]
     },
     "execution_count": 20,
     "metadata": {},
     "output_type": "execute_result"
    }
   ],
   "source": [
    "#Try to write a 10 Different different example of lambda function with a choice of your taks \n",
    "\n",
    "def make_incrementor(n):\n",
    "     return lambda x: x + n\n",
    "\n",
    "pairs = [(1, 'one'), (2, 'two'), (3, 'three'), (4, 'four')]\n",
    "pairs.sort(key=lambda pair: pair[1])\n",
    "print(pairs)\n",
    "\n",
    "\n",
    "(lambda x: x + 1)(2)\n",
    "\n",
    "full_name = lambda first, last: 'Full name: {first.title()} {last.title()}'\n",
    "full_name('guido', 'van rossum')\n",
    "\n",
    "(lambda x, y: x + y)(2, 3)\n",
    "\n",
    "high_ord_func = lambda x, func: x + func(x)\n",
    "high_ord_func(2, lambda x: x * x)\n",
    "high_ord_func(2, lambda x: x + 3)\n",
    "\n",
    "\n",
    "\n",
    "(lambda x, y, z: x + y + z)(1, 2, 3)\n",
    "(lambda x, y, z=3: x + y + z)(1, 2)\n",
    "\n",
    "(lambda x, y, z=3: x + y + z)(1, y=2)\n",
    "\n",
    "(lambda *args: sum(args))(1,2,3)\n",
    "\n",
    "lambda **kwargs: sum(kwargs.values()))(one=1, two=2, three=3)\n",
    "\n",
    "lambda x, *, y=0, z=0: x + y + z)(1, y=2, z=3)\n"
   ]
  },
  {
   "cell_type": "code",
   "execution_count": 27,
   "id": "131963ea",
   "metadata": {
    "scrolled": true
   },
   "outputs": [
    {
     "name": "stdout",
     "output_type": "stream",
     "text": [
      "qbZVFf58\n",
      "\n",
      "https://www.geeksforgeeks.org/comprehensions-in-python/\n",
      "\n",
      "https://www.geeksforgeeks.org/data-types/\n",
      "\n",
      "https://www.geeksforgeeks.org/python-sort-python-dictionaries-by-key-or-value/?ref=rp\n",
      "\n",
      "https://www.codingem.com/python-sort-dictionary/\n"
     ]
    }
   ],
   "source": [
    "#Try to wwrite a funtion whihc can perform a read operation from .txt file \n",
    "\n",
    "readFile = open(\"C://Users//vikrtoma//Desktop//python.txt\", \"r+\")\n",
    "fileContent = readFile.read()\n",
    "print (fileContent)\n",
    "readFile.close()"
   ]
  },
  {
   "cell_type": "code",
   "execution_count": 32,
   "id": "5ae83388",
   "metadata": {},
   "outputs": [
    {
     "data": {
      "text/plain": [
       "'hihereworldmiss'"
      ]
     },
     "execution_count": 32,
     "metadata": {},
     "output_type": "execute_result"
    }
   ],
   "source": [
    "#Try to write a lambda function which can return a concatination of all the string that we will pass\n",
    "\n",
    "def concat_all_string(*args):\n",
    "    return \"\".join(x for x in args)\n",
    "\n",
    "a= lambda *args : \"\".join(x for x in args)\n",
    "\n",
    "a(\"hi\",\"here\",\"world\",\"miss\")"
   ]
  },
  {
   "cell_type": "code",
   "execution_count": 31,
   "id": "be177362",
   "metadata": {},
   "outputs": [
    {
     "data": {
      "text/plain": [
       "[1,\n",
       " 4,\n",
       " 9,\n",
       " 16,\n",
       " 25,\n",
       " 36,\n",
       " 49,\n",
       " 64,\n",
       " 81,\n",
       " 100,\n",
       " 121,\n",
       " 144,\n",
       " 169,\n",
       " 196,\n",
       " 225,\n",
       " 256,\n",
       " 289,\n",
       " 324,\n",
       " 361,\n",
       " 400,\n",
       " 441,\n",
       " 484,\n",
       " 529,\n",
       " 576,\n",
       " 625,\n",
       " 676,\n",
       " 729,\n",
       " 784,\n",
       " 841,\n",
       " 900,\n",
       " 961,\n",
       " 1024,\n",
       " 1089,\n",
       " 1156,\n",
       " 1225,\n",
       " 1296,\n",
       " 1369,\n",
       " 1444,\n",
       " 1521,\n",
       " 1600,\n",
       " 1681,\n",
       " 1764,\n",
       " 1849,\n",
       " 1936,\n",
       " 2025,\n",
       " 2116,\n",
       " 2209,\n",
       " 2304,\n",
       " 2401,\n",
       " 2500,\n",
       " 2601,\n",
       " 2704,\n",
       " 2809,\n",
       " 2916,\n",
       " 3025,\n",
       " 3136,\n",
       " 3249,\n",
       " 3364,\n",
       " 3481,\n",
       " 3600,\n",
       " 3721,\n",
       " 3844,\n",
       " 3969,\n",
       " 4096,\n",
       " 4225,\n",
       " 4356,\n",
       " 4489,\n",
       " 4624,\n",
       " 4761,\n",
       " 4900,\n",
       " 5041,\n",
       " 5184,\n",
       " 5329,\n",
       " 5476,\n",
       " 5625,\n",
       " 5776,\n",
       " 5929,\n",
       " 6084,\n",
       " 6241,\n",
       " 6400,\n",
       " 6561,\n",
       " 6724,\n",
       " 6889,\n",
       " 7056,\n",
       " 7225,\n",
       " 7396,\n",
       " 7569,\n",
       " 7744,\n",
       " 7921,\n",
       " 8100,\n",
       " 8281,\n",
       " 8464,\n",
       " 8649,\n",
       " 8836,\n",
       " 9025,\n",
       " 9216,\n",
       " 9409,\n",
       " 9604,\n",
       " 9801,\n",
       " 10000]"
      ]
     },
     "execution_count": 31,
     "metadata": {},
     "output_type": "execute_result"
    }
   ],
   "source": [
    "#Try to write a lambda function which can return list of square of all the data between 1-100 \n",
    "y= lambda a,b : [x*x for x in range(a,b)]\n",
    "y(1,101)"
   ]
  },
  {
   "cell_type": "code",
   "execution_count": 30,
   "id": "43625400",
   "metadata": {},
   "outputs": [
    {
     "name": "stdout",
     "output_type": "stream",
     "text": [
      "[1, 2, 3, 4, 5]\n",
      "[1, 2, 3, 4, 5, 9, 10]\n",
      "[1, 2, 3, 4, 5, 9]\n",
      "[2, 3, 4, 5, 9]\n"
     ]
    }
   ],
   "source": [
    "#Try to write a function which is a replica of list append , extend and pop function \n",
    "\n",
    "a=[1,2,3,4]\n",
    "\n",
    "def custom_append(mainlist,valuetoadd):\n",
    "    if mainlist and valuetoadd:\n",
    "        mainlist[len(mainlist):] = list([valuetoadd])\n",
    "    else:\n",
    "        print(\"list or varaible passed is empty\")  \n",
    "        return\n",
    "    return mainlist\n",
    "\n",
    "print(custom_append(a,5))\n",
    "\n",
    "b=[9,10]\n",
    "\n",
    "def custom_extend(mainlist,listtoadd):\n",
    "    if mainlist and listtoadd:\n",
    "        mainlist[len(mainlist):] = listtoadd\n",
    "    else:\n",
    "        print(\"one of the list passed is empty\")\n",
    "        return\n",
    "    return mainlist\n",
    "\n",
    "print(custom_extend(a,b))\n",
    "\n",
    "\n",
    "def custom_pop(mainlist):\n",
    "    if mainlist:\n",
    "        del mainlist[-1]\n",
    "    return mainlist\n",
    "\n",
    "print(custom_pop(a))\n",
    "\n",
    "def custom_pop(mainlist,index): \n",
    "    if index <= len(mainlist)-1:\n",
    "        if mainlist:\n",
    "             del mainlist[index]\n",
    "    else:\n",
    "        print(\"index out of bound exception\")\n",
    "        return  \n",
    "    return mainlist\n",
    "        \n",
    "\n",
    "print(custom_pop(a,0))"
   ]
  },
  {
   "cell_type": "code",
   "execution_count": 29,
   "id": "b4a1135f",
   "metadata": {},
   "outputs": [
    {
     "name": "stdout",
     "output_type": "stream",
     "text": [
      "2\n",
      "3\n",
      "5\n",
      "7\n",
      "11\n",
      "13\n",
      "17\n",
      "19\n",
      "23\n",
      "29\n",
      "31\n",
      "37\n",
      "41\n",
      "43\n",
      "47\n",
      "53\n",
      "59\n",
      "61\n",
      "67\n",
      "71\n",
      "73\n",
      "79\n",
      "83\n",
      "89\n",
      "97\n"
     ]
    }
   ],
   "source": [
    "#Try to print a prime number in between 1 to 1000\n",
    "\n",
    "def is_prime_number(x):\n",
    "    if x >= 2:\n",
    "        for y in range(2,x):\n",
    "            if not ( x % y ):\n",
    "                return False\n",
    "    else:\n",
    "        return False\n",
    "    return True\n",
    "        \n",
    "def check_prime(startIndex,endIndex):\n",
    "    prime_numbers = 0\n",
    "    for i in range(startIndex,endIndex):\n",
    "        if is_prime_number(i):\n",
    "            prime_numbers += 1\n",
    "            print(i)\n",
    "\n",
    "    \n",
    "       \n",
    "check_prime(1,100)"
   ]
  },
  {
   "cell_type": "code",
   "execution_count": null,
   "id": "ff8316c6",
   "metadata": {},
   "outputs": [],
   "source": []
  }
 ],
 "metadata": {
  "kernelspec": {
   "display_name": "Python 3 (ipykernel)",
   "language": "python",
   "name": "python3"
  },
  "language_info": {
   "codemirror_mode": {
    "name": "ipython",
    "version": 3
   },
   "file_extension": ".py",
   "mimetype": "text/x-python",
   "name": "python",
   "nbconvert_exporter": "python",
   "pygments_lexer": "ipython3",
   "version": "3.9.12"
  }
 },
 "nbformat": 4,
 "nbformat_minor": 5
}
